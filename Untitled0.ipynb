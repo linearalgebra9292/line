{
  "nbformat": 4,
  "nbformat_minor": 0,
  "metadata": {
    "colab": {
      "provenance": [],
      "authorship_tag": "ABX9TyPbn1hiDJjYWCP3hJk3bZ66",
      "include_colab_link": true
    },
    "kernelspec": {
      "name": "python3",
      "display_name": "Python 3"
    },
    "language_info": {
      "name": "python"
    }
  },
  "cells": [
    {
      "cell_type": "markdown",
      "metadata": {
        "id": "view-in-github",
        "colab_type": "text"
      },
      "source": [
        "<a href=\"https://colab.research.google.com/github/linearalgebra9292/line/blob/main/Untitled0.ipynb\" target=\"_parent\"><img src=\"https://colab.research.google.com/assets/colab-badge.svg\" alt=\"Open In Colab\"/></a>"
      ]
    },
    {
      "cell_type": "markdown",
      "source": [
        "1. 파이썬 기초 - 프린트"
      ],
      "metadata": {
        "id": "4v_bg4T6XaGE"
      }
    },
    {
      "cell_type": "code",
      "execution_count": 1,
      "metadata": {
        "id": "KvJY5ZWpRwU-",
        "outputId": "37cd5c55-beaf-4ff2-87bd-865c93f55803",
        "colab": {
          "base_uri": "https://localhost:8080/"
        }
      },
      "outputs": [
        {
          "output_type": "stream",
          "name": "stdout",
          "text": [
            "hello world\n",
            "정수: 3, 03, 003, 0003, 00003\n",
            "실수: 256, 256.1, 256.12\n",
            "문자열: [hello, wolrd]\n"
          ]
        }
      ],
      "source": [
        "print('hello world')\n",
        "\n",
        "x = 3\n",
        "print(\"정수: %01d, %02d, %03d, %04d, %05d\" % (x,x,x,x,x))\n",
        "\n",
        "x = 256.123\n",
        "print(\"실수: %.0f, %.1f, %.2f\" % (x,x,x))\n",
        "\n",
        "x = \"hello, wolrd\"\n",
        "print(\"문자열: [%s]\" % (x))"
      ]
    },
    {
      "cell_type": "markdown",
      "source": [
        "반복문, 조건문"
      ],
      "metadata": {
        "id": "yAbgN_MkXzbU"
      }
    },
    {
      "cell_type": "code",
      "source": [
        "contents = [\"Regression\", \"Classification\", \"SYM\", \"Clustering\", \"Dimension reduction\", \"NN\", \"CNN\", \"AE\", \"GAN\", \"RNN\"]\n",
        "for con in contents:\n",
        "  if con in [\"Regression\", \"Classification\", \"SVM\", \"Clustering\", \"Dimension reduction\"]:\n",
        "    print(\"%s 은(는) 기계학습내용입니다\" %con)\n",
        "  elif con in [\"CNN\"]:\n",
        "    print(\"%s 은(는) convolutional neural network 입니다.\" %con)\n",
        "  else:\n",
        "    print(\"%s 은(는) 심층학습내용입니다.\" %con)"
      ],
      "metadata": {
        "id": "M-_9RowIX0B4",
        "outputId": "58aa8306-407f-45ce-975c-ca9465966618",
        "colab": {
          "base_uri": "https://localhost:8080/"
        }
      },
      "execution_count": 4,
      "outputs": [
        {
          "output_type": "stream",
          "name": "stdout",
          "text": [
            "Regression 은(는) 기계학습내용입니다\n",
            "Classification 은(는) 기계학습내용입니다\n",
            "SYM 은(는) 심층학습내용입니다.\n",
            "Clustering 은(는) 기계학습내용입니다\n",
            "Dimension reduction 은(는) 기계학습내용입니다\n",
            "NN 은(는) 심층학습내용입니다.\n",
            "CNN 은(는) convolutional neural network 입니다.\n",
            "AE 은(는) 심층학습내용입니다.\n",
            "GAN 은(는) 심층학습내용입니다.\n",
            "RNN 은(는) 심층학습내용입니다.\n"
          ]
        }
      ]
    },
    {
      "cell_type": "markdown",
      "source": [
        "반복문과 인덱스"
      ],
      "metadata": {
        "id": "p63iDYZhaBY_"
      }
    },
    {
      "cell_type": "code",
      "source": [
        "for (i, con) in enumerate(contents):\n",
        "  print(\"[%d/%d] %s\" %(i, len(contents),con))"
      ],
      "metadata": {
        "id": "C4B_m3P8aacg",
        "outputId": "e06e0598-1046-4a5a-e458-170b35d79104",
        "colab": {
          "base_uri": "https://localhost:8080/"
        }
      },
      "execution_count": 5,
      "outputs": [
        {
          "output_type": "stream",
          "name": "stdout",
          "text": [
            "[0/10] Regression\n",
            "[1/10] Classification\n",
            "[2/10] SYM\n",
            "[3/10] Clustering\n",
            "[4/10] Dimension reduction\n",
            "[5/10] NN\n",
            "[6/10] CNN\n",
            "[7/10] AE\n",
            "[8/10] GAN\n",
            "[9/10] RNN\n"
          ]
        }
      ]
    },
    {
      "cell_type": "markdown",
      "source": [
        "함수"
      ],
      "metadata": {
        "id": "MydybWAXa2WB"
      }
    },
    {
      "cell_type": "code",
      "source": [
        "def sum(a,b):\n",
        "  return a + b\n",
        "\n",
        "x = 10.0\n",
        "y = 20.0\n",
        "print(\"%.1f + %.1f = %.1f\" %(x,y,sum(x,y)))"
      ],
      "metadata": {
        "id": "siqUwTVua46h",
        "outputId": "2bba2f18-7bd3-4433-ca90-50dc745b0861",
        "colab": {
          "base_uri": "https://localhost:8080/"
        }
      },
      "execution_count": 6,
      "outputs": [
        {
          "output_type": "stream",
          "name": "stdout",
          "text": [
            "10.0 + 20.0 = 30.0\n"
          ]
        }
      ]
    },
    {
      "cell_type": "markdown",
      "source": [
        "리스트"
      ],
      "metadata": {
        "id": "vs2IujsJbU0d"
      }
    },
    {
      "cell_type": "code",
      "source": [],
      "metadata": {
        "id": "FdOnI_HpbU7j"
      },
      "execution_count": null,
      "outputs": []
    }
  ]
}